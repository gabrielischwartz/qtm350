{
 "cells": [
  {
   "cell_type": "markdown",
   "metadata": {},
   "source": [
    "# QTM 350 - Data Science Computing\n",
    "\n",
    "## Assignment 01 - Computational Literacy\n",
    "### Due 11 September 2024\n",
    "\n",
    "### Instructions\n",
    "\n",
    "This assignment evaluates your understanding of topics covered in the first two weeks of class, including binary and hexadecimal number systems, ASCII encoding, and programming language fundamentals.\n",
    "\n",
    "You must complete this assignment individually. While you may use available resources such as notes, books, and AI tools, you are expected to submit original work. Please acknowledge all resources used, including input from classmates and AI. If you are unsure about permissible resources or proper acknowledgement, please consult the instructor.\n",
    "\n",
    "Present your solutions clearly and systematically, showing your problem-solving process. Please ensure that any code is well-commented.\n",
    "\n",
    "### Submission\n",
    "\n",
    "Please submit your solutions as either a single Jupyter notebook or a Quarto PDF file. Follow the instructions provided in each section carefully. Submit your completed assignment to Canvas or via email (danilo.freire@emory.edu) by Wednesday, September 11, at 11:59 PM."
   ]
  },
  {
   "cell_type": "markdown",
   "metadata": {},
   "source": [
    "### Question 01\n",
    "\n",
    "Convert the decimal number 53 to binary. Show your work."
   ]
  },
  {
   "cell_type": "markdown",
   "metadata": {},
   "source": [
    "### Answer 01\n",
    "\n",
    "110101\n",
    "\n",
    "2^5 + 2^4 + 2^2 + 2^0\n",
    "\n",
    "32 + 16 + 4 + 1 = 53"
   ]
  },
  {
   "cell_type": "markdown",
   "metadata": {},
   "source": [
    "### Question 02\n",
    "\n",
    "Convert the binary number 1011001 to decimal. Show your work."
   ]
  },
  {
   "cell_type": "markdown",
   "metadata": {},
   "source": [
    "### Answer 02\n",
    "\n",
    "2^0 + 2^3 + 2^4 + 2^6\n",
    "\n",
    "1 + 8 + 16 + 64 = 89"
   ]
  },
  {
   "cell_type": "markdown",
   "metadata": {},
   "source": [
    "### Question 03\n",
    "\n",
    "What is the hexadecimal representation of the RGB colour (128, 64, 255)? Explain your answer."
   ]
  },
  {
   "cell_type": "markdown",
   "metadata": {},
   "source": [
    "### Answer 03\n",
    "\n",
    "R:\n",
    "128/16 = 8      \n",
    "128 - (16 * 8) = 0\n",
    "G:\n",
    "64/16 = 4\n",
    "64 - (16 * 4) = 0\n",
    "B:\n",
    "255/16 = 15\n",
    "255 - (16 * 15) = 15\n",
    "\n",
    "Hexidecimal: \\#8040FF"
   ]
  },
  {
   "cell_type": "markdown",
   "metadata": {},
   "source": [
    "### Question 04\n",
    "\n",
    "Convert the hexadecimal colour #2A9F3B to its RGB components. Show your steps."
   ]
  },
  {
   "cell_type": "markdown",
   "metadata": {},
   "source": [
    "### Answer 04\n",
    "\n",
    "\n",
    "R: 2 * 16^1 + 10 * 16^0 = 42\n",
    "G: 9 * 16^1 + 15 * 16^0 = 159\n",
    "B: 3 * 16^1 + 11 * 16^0 = 59\n",
    "\n",
    "RGB (42, 159, 59)"
   ]
  },
  {
   "cell_type": "markdown",
   "metadata": {},
   "source": [
    "### Question 05\n",
    "\n",
    "Using the coin representation system described in the lecture (c[quarters][dimes][nickels][pennies]), convert $1.37 to coin representation. Explain your reasoning."
   ]
  },
  {
   "cell_type": "markdown",
   "metadata": {},
   "source": [
    "### Answer 05\n",
    "\n",
    " Go through this list (c[quarters][dimes][nickels][pennies]) and use as many as each as you can beofre moving to the next step\n",
    "\n",
    "- **$1.37** - **5 Quarters** = $1.37 - $1.25 = **$0.12**\n",
    "- **$0.12** - **1 Dime** = $0.02 \n",
    "- **$.02** - **0 Nickels** = $0.02 \n",
    "- **$0.02** - **2 Pennies** = $0.00\n",
    "\n",
    "**Result:** 5 Quarters, 1 Dime, 2 Pennies\n"
   ]
  },
  {
   "cell_type": "markdown",
   "metadata": {},
   "source": [
    "### Question 06\n",
    "\n",
    "What is the Unicode representation of the word \"Emory\"? Use the Unicode table provided in the lecture to find out.\n"
   ]
  },
  {
   "cell_type": "markdown",
   "metadata": {},
   "source": [
    "### Answer 06\n",
    "\n",
    "U+0045 U+006D U+006F U+0072 U+0079."
   ]
  },
  {
   "cell_type": "markdown",
   "metadata": {},
   "source": [
    "### Question 07\n",
    "\n",
    "Explain the difference between ASCII and Unicode. Why was Unicode developed, and what advantages does it offer over ASCII?\n",
    "\n",
    "\n"
   ]
  },
  {
   "cell_type": "markdown",
   "metadata": {},
   "source": [
    "### Answer 07\n",
    "\n",
    "ASCII uses 7 bits per character and Unicode uses 32 bits. This means that Unicode takes up more storage per character, but it also allows for the use of more characters. ASCII allows only for the use of uppercase letters, lowercase letters, punctuation, and a few additional characters. Unicode includes all of those, as well as emojis and many more characters."
   ]
  },
  {
   "cell_type": "markdown",
   "metadata": {},
   "source": [
    "### Question 08\n",
    "\n",
    "Describe the Von Neumann architecture and its significance in modern computing. What is the Von Neumann bottleneck, and how does it affect computer performance?"
   ]
  },
  {
   "cell_type": "markdown",
   "metadata": {},
   "source": [
    "### Answer 08\n",
    "\n",
    "The Von Neumann architecture is a computer design model that uses a single memory space to store both instructions and data, facilitating sequential execution of tasks. Its significance lies in the foundational concept of the stored program, which underpins most modern computing systems. The Von Neumann bottleneck refers to the performance limitation caused by the shared memory and bus, which can slow down data transfer rates and limit overall system efficiency."
   ]
  },
  {
   "cell_type": "markdown",
   "metadata": {},
   "source": [
    "### Question 09\n",
    "\n",
    "Compare and contrast low-level and high-level programming languages. Give two examples of each and explain when you might choose to use one over the other.\n"
   ]
  },
  {
   "cell_type": "markdown",
   "metadata": {},
   "source": [
    "### Answer 09\n",
    "\n",
    "C and Assembly are low-level programming langauges. They are useful when creating operating systems or any other task that requires manual manipulation of memory.\n",
    "\n",
    "Python and Java are high-level programming languages. These are useful because they are usually faster to program in, and easier to understand for beginners."
   ]
  },
  {
   "cell_type": "markdown",
   "metadata": {},
   "source": [
    "### Question 10\n",
    "\n",
    "Discuss the concept of abstraction in computer science, using the representation of images in computers as an example. How does this abstraction process impact data analysis and predictive modelling in image-related tasks?"
   ]
  },
  {
   "cell_type": "markdown",
   "metadata": {},
   "source": [
    "### Answer 10\n",
    "\n",
    "Abstraction simplifies complex systems by focusing on essential features while concealing underlying details. By abstracting data into higher-level representations, such as numerical values or structures, complex tasks become more manageable and comprehensible. This abstraction process significantly enhances data analysis and predictive modeling by enabling efficient data manipulation, improving the accuracy of insights and predictions, and showing which data types are related to each other and how.\n",
    "\n",
    "\n",
    "\n",
    "\n",
    "\n",
    "\n"
   ]
  }
 ],
 "metadata": {
  "kernelspec": {
   "display_name": "base",
   "language": "python",
   "name": "python3"
  },
  "language_info": {
   "codemirror_mode": {
    "name": "ipython",
    "version": 3
   },
   "file_extension": ".py",
   "mimetype": "text/x-python",
   "name": "python",
   "nbconvert_exporter": "python",
   "pygments_lexer": "ipython3",
   "version": "3.12.2"
  }
 },
 "nbformat": 4,
 "nbformat_minor": 2
}
